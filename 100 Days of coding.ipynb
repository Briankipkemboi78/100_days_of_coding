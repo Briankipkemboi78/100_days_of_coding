{
 "cells": [
  {
   "cell_type": "code",
   "execution_count": 7,
   "id": "18b2589d",
   "metadata": {},
   "outputs": [
    {
     "data": {
      "text/html": [
       "<style>.container { width:95% !important; }</style>"
      ],
      "text/plain": [
       "<IPython.core.display.HTML object>"
      ]
     },
     "metadata": {},
     "output_type": "display_data"
    }
   ],
   "source": [
    "from IPython.display import display, HTML\n",
    "display(HTML(\"<style>.container { width:95% !important; }</style>\"))"
   ]
  },
  {
   "cell_type": "code",
   "execution_count": 1,
   "id": "0b5c55ff",
   "metadata": {},
   "outputs": [
    {
     "name": "stdout",
     "output_type": "stream",
     "text": [
      "Day 1 - String Manipulation\n",
      "String Concatenation is done with the  sign.\n",
      "e.g. print(\"Hello \" + \"world\")\n",
      "New lines can be created with a backslash and n.\n"
     ]
    }
   ],
   "source": [
    "print(\"Day 1 - String Manipulation\")\n",
    "print(\"String Concatenation is done with the \"+\" sign.\")\n",
    "print('e.g. print(\"Hello \" + \"world\")')\n",
    "print((\"New lines can be created with a backslash and n.\"))"
   ]
  },
  {
   "cell_type": "markdown",
   "id": "c4a10495",
   "metadata": {},
   "source": [
    "#### Variables\n",
    "> Variables are used to store datat that can be used later in a program."
   ]
  },
  {
   "cell_type": "code",
   "execution_count": 2,
   "id": "d63730f0",
   "metadata": {},
   "outputs": [
    {
     "name": "stdout",
     "output_type": "stream",
     "text": [
      "Enter any number between 1 and 10057\n",
      "57 Battery street\n",
      "\n"
     ]
    }
   ],
   "source": [
    "number = int(input(\"Enter any number between 1 and 100\"))\n",
    "print(\"{:d} Battery street\\n\".format(number))"
   ]
  },
  {
   "cell_type": "code",
   "execution_count": 3,
   "id": "24f1c0bd",
   "metadata": {},
   "outputs": [
    {
     "name": "stdout",
     "output_type": "stream",
     "text": [
      "What is your name? brian\n",
      "brian\n",
      "your name is 5 letters long\n"
     ]
    }
   ],
   "source": [
    "name = input(\"What is your name? \")\n",
    "length = len(name)\n",
    "print(name)\n",
    "print(f\"your name is {length} letters long\")"
   ]
  },
  {
   "cell_type": "code",
   "execution_count": 4,
   "id": "a3feb2a4",
   "metadata": {},
   "outputs": [
    {
     "name": "stdout",
     "output_type": "stream",
     "text": [
      "There are 5 hours until midnight\n"
     ]
    }
   ],
   "source": [
    "num_hours = \"5\"\n",
    "print(\"There are \"+ num_hours +\" hours until midnight\")"
   ]
  },
  {
   "cell_type": "markdown",
   "id": "99f79608",
   "metadata": {},
   "source": [
    "##### mini project"
   ]
  },
  {
   "cell_type": "code",
   "execution_count": 5,
   "id": "14912320",
   "metadata": {},
   "outputs": [
    {
     "name": "stdout",
     "output_type": "stream",
     "text": [
      "Welcome ot the Band Name Generator\n",
      "Enter the name of the city you come from? \n",
      "nai\n",
      "you come from nai\n",
      "Enter the name of your pet? \n",
      "bo\n",
      "your pet is called bo\n",
      "Your Band name is nai bo\n"
     ]
    }
   ],
   "source": [
    "print(\"Welcome ot the Band Name Generator\")\n",
    "city = input(\"Enter the name of the city you come from? \\n\")\n",
    "print(f'you come from {city}')\n",
    "pet = input(\"Enter the name of your pet? \\n\")\n",
    "print(f'your pet is called {pet}')\n",
    "print(f'Your Band name is {city} {pet}')"
   ]
  },
  {
   "cell_type": "markdown",
   "id": "cf9d69e3",
   "metadata": {},
   "source": [
    "#### Data Types"
   ]
  },
  {
   "cell_type": "code",
   "execution_count": 6,
   "id": "7b3383b2",
   "metadata": {},
   "outputs": [
    {
     "name": "stdout",
     "output_type": "stream",
     "text": [
      "Type a two digit number: 56\n",
      "11\n"
     ]
    }
   ],
   "source": [
    "# Program to sum value of two digit number\n",
    "# 🚨 Don't change the code below 👇\n",
    "two_digit_number = input(\"Type a two digit number: \")\n",
    "# 🚨 Don't change the code above 👆\n",
    "\n",
    "####################################\n",
    "#Write your code below this line 👇\n",
    "a = int(two_digit_number[0])\n",
    "b = int(two_digit_number[1])\n",
    "\n",
    "print(a + b)\n",
    "\n"
   ]
  },
  {
   "cell_type": "markdown",
   "id": "48007456",
   "metadata": {},
   "source": [
    "###### BMI Calculator"
   ]
  },
  {
   "cell_type": "code",
   "execution_count": 15,
   "id": "8bb1f815",
   "metadata": {},
   "outputs": [
    {
     "name": "stdout",
     "output_type": "stream",
     "text": [
      "Enter your height in m: 1.95\n",
      "Enter your weight in kg: 75\n",
      "Your BMI is 19\n"
     ]
    }
   ],
   "source": [
    "height = input(\"Enter your height in m: \")\n",
    "weight = input(\"Enter your weight in kg: \")\n",
    "\n",
    "result = int(weight) / (float(height) ** 2)\n",
    "BMI = int(result)\n",
    "print(f'Your BMI is {BMI}')"
   ]
  },
  {
   "cell_type": "code",
   "execution_count": null,
   "id": "0f0acaf3",
   "metadata": {},
   "outputs": [],
   "source": []
  }
 ],
 "metadata": {
  "kernelspec": {
   "display_name": "Python 3 (ipykernel)",
   "language": "python",
   "name": "python3"
  },
  "language_info": {
   "codemirror_mode": {
    "name": "ipython",
    "version": 3
   },
   "file_extension": ".py",
   "mimetype": "text/x-python",
   "name": "python",
   "nbconvert_exporter": "python",
   "pygments_lexer": "ipython3",
   "version": "3.9.12"
  }
 },
 "nbformat": 4,
 "nbformat_minor": 5
}
