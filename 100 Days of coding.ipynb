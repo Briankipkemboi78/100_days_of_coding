{
 "cells": [
  {
   "cell_type": "code",
   "execution_count": 1,
   "id": "18b2589d",
   "metadata": {},
   "outputs": [
    {
     "data": {
      "text/html": [
       "<style>.container { width:95% !important; }</style>"
      ],
      "text/plain": [
       "<IPython.core.display.HTML object>"
      ]
     },
     "metadata": {},
     "output_type": "display_data"
    }
   ],
   "source": [
    "from IPython.display import display, HTML\n",
    "display(HTML(\"<style>.container { width:95% !important; }</style>\"))"
   ]
  },
  {
   "cell_type": "code",
   "execution_count": 2,
   "id": "0b5c55ff",
   "metadata": {},
   "outputs": [
    {
     "name": "stdout",
     "output_type": "stream",
     "text": [
      "Day 1 - String Manipulation\n",
      "String Concatenation is done with the  sign.\n",
      "e.g. print(\"Hello \" + \"world\")\n",
      "New lines can be created with a backslash and n.\n"
     ]
    }
   ],
   "source": [
    "print(\"Day 1 - String Manipulation\")\n",
    "print(\"String Concatenation is done with the \"+\" sign.\")\n",
    "print('e.g. print(\"Hello \" + \"world\")')\n",
    "print((\"New lines can be created with a backslash and n.\"))"
   ]
  },
  {
   "cell_type": "markdown",
   "id": "c4a10495",
   "metadata": {},
   "source": [
    "#### Variables\n",
    "> Variables are used to store datat that can be used later in a program."
   ]
  },
  {
   "cell_type": "code",
   "execution_count": 3,
   "id": "d63730f0",
   "metadata": {},
   "outputs": [
    {
     "name": "stdout",
     "output_type": "stream",
     "text": [
      "Enter any number between 1 and 10098\n",
      "98 Battery street\n",
      "\n"
     ]
    }
   ],
   "source": [
    "number = int(input(\"Enter any number between 1 and 100 \\n\"))\n",
    "print(\"{:d} Battery street\\n\".format(number))"
   ]
  },
  {
   "cell_type": "code",
   "execution_count": 4,
   "id": "24f1c0bd",
   "metadata": {},
   "outputs": [
    {
     "name": "stdout",
     "output_type": "stream",
     "text": [
      "What is your name? brian\n",
      "brian\n",
      "your name is 5 letters long\n"
     ]
    }
   ],
   "source": [
    "name = input(\"What is your name? \")\n",
    "length = len(name)\n",
    "print(name)\n",
    "print(f\"your name is {length} letters long\")"
   ]
  },
  {
   "cell_type": "code",
   "execution_count": 5,
   "id": "a3feb2a4",
   "metadata": {},
   "outputs": [
    {
     "name": "stdout",
     "output_type": "stream",
     "text": [
      "There are 5 hours until midnight\n"
     ]
    }
   ],
   "source": [
    "num_hours = \"5\"\n",
    "print(\"There are \"+ num_hours +\" hours until midnight\")"
   ]
  },
  {
   "cell_type": "markdown",
   "id": "99f79608",
   "metadata": {},
   "source": [
    "##### mini project"
   ]
  },
  {
   "cell_type": "code",
   "execution_count": 6,
   "id": "14912320",
   "metadata": {},
   "outputs": [
    {
     "name": "stdout",
     "output_type": "stream",
     "text": [
      "Welcome ot the Band Name Generator\n",
      "Enter the name of the city you come from? \n",
      "nairobi\n",
      "you come from nairobi\n",
      "Enter the name of your pet? \n",
      "nri\n",
      "your pet is called nri\n",
      "Your Band name is nairobi nri\n"
     ]
    }
   ],
   "source": [
    "print(\"Welcome ot the Band Name Generator\")\n",
    "city = input(\"Enter the name of the city you come from? \\n\")\n",
    "print(f'you come from {city}')\n",
    "pet = input(\"Enter the name of your pet? \\n\")\n",
    "print(f'your pet is called {pet}')\n",
    "print(f'Your Band name is {city} {pet}')"
   ]
  },
  {
   "cell_type": "markdown",
   "id": "cf9d69e3",
   "metadata": {},
   "source": [
    "#### Data Types"
   ]
  },
  {
   "cell_type": "code",
   "execution_count": 7,
   "id": "7b3383b2",
   "metadata": {},
   "outputs": [
    {
     "name": "stdout",
     "output_type": "stream",
     "text": [
      "Type a two digit number: 76\n",
      "13\n"
     ]
    }
   ],
   "source": [
    "# Program to sum value of two digit number\n",
    "# 🚨 Don't change the code below 👇\n",
    "two_digit_number = input(\"Type a two digit number: \")\n",
    "# 🚨 Don't change the code above 👆\n",
    "\n",
    "####################################\n",
    "#Write your code below this line 👇\n",
    "a = int(two_digit_number[0])\n",
    "b = int(two_digit_number[1])\n",
    "\n",
    "print(a + b)\n",
    "\n"
   ]
  },
  {
   "cell_type": "markdown",
   "id": "48007456",
   "metadata": {},
   "source": [
    "###### BMI Calculator"
   ]
  },
  {
   "cell_type": "code",
   "execution_count": 8,
   "id": "8bb1f815",
   "metadata": {},
   "outputs": [
    {
     "name": "stdout",
     "output_type": "stream",
     "text": [
      "Enter your height in m: 1.89\n",
      "Enter your weight in kg: 75\n",
      "Your BMI is 20\n"
     ]
    }
   ],
   "source": [
    "height = input(\"Enter your height in m: \")\n",
    "weight = input(\"Enter your weight in kg: \")\n",
    "\n",
    "result = int(weight) / (float(height) ** 2)\n",
    "BMI = int(result)\n",
    "print(f'Your BMI is {BMI}')"
   ]
  },
  {
   "cell_type": "code",
   "execution_count": 9,
   "id": "0f0acaf3",
   "metadata": {},
   "outputs": [
    {
     "name": "stdout",
     "output_type": "stream",
     "text": [
      "your score is 0, you are 1.98 tall, you are winning is True\n"
     ]
    }
   ],
   "source": [
    "# f strings\n",
    "score = 0\n",
    "height = 1.98\n",
    "isWinning = True\n",
    "\n",
    "print(f\"your score is {score}, you are {height} tall, you are winning is {isWinning}\" )"
   ]
  },
  {
   "cell_type": "markdown",
   "id": "86d4f140",
   "metadata": {},
   "source": [
    "###### Calculate Life in weeks"
   ]
  },
  {
   "cell_type": "code",
   "execution_count": 10,
   "id": "0552187f",
   "metadata": {},
   "outputs": [
    {
     "name": "stdout",
     "output_type": "stream",
     "text": [
      "What is your current age? 45\n",
      "You have 16425 days, 2340 weeks and 540 months left\n"
     ]
    }
   ],
   "source": [
    "# 🚨 Don't change the code below 👇\n",
    "age = input(\"What is your current age? \")\n",
    "# 🚨 Don't change the code above 👆\n",
    "\n",
    "#Write your code below this line 👇\n",
    "age_as_int = int(age)\n",
    "\n",
    "years_remaining = 90 - age_as_int\n",
    "days_remaining = years_remaining * 365\n",
    "weeks_remaining = years_remaining * 52\n",
    "months_remaining = years_remaining * 12\n",
    "\n",
    "message = f\"You have {days_remaining} days, {weeks_remaining} weeks and {months_remaining} months left\"\n",
    "\n",
    "print(message)"
   ]
  },
  {
   "cell_type": "markdown",
   "id": "926af2ea",
   "metadata": {},
   "source": [
    "###### Tip Calculator"
   ]
  },
  {
   "cell_type": "code",
   "execution_count": 11,
   "id": "5c04b7c2",
   "metadata": {},
   "outputs": [
    {
     "name": "stdout",
     "output_type": "stream",
     "text": [
      "Welcome to the tip calculator.\n",
      "What was the total bill? \n",
      "$1786.9\n",
      "What percentage tip would you like to give? 10, 12, or 15? \n",
      "10\n",
      "How many people to split the bill? \n",
      "7\n",
      "Each person should pay: $ 280.80\n"
     ]
    }
   ],
   "source": [
    "#If the bill was $150.00, split between 5 people, with 12% tip. \n",
    "\n",
    "#Each person should pay (150.00 / 5) * 1.12 = 33.6\n",
    "#Format the result to 2 decimal places = 33.60\n",
    "\n",
    "#Tip: There are 2 ways to round a number. You might have to do some Googling to solve this.💪\n",
    "\n",
    "#Write your code below this line 👇\n",
    "\n",
    "print(\"Welcome to the tip calculator.\")\n",
    "bill = float(input(\"What was the total bill? \\n$\"))\n",
    "\n",
    "tip = int(input(\"What percentage tip would you like to give? 10, 12, or 15? \\n\"))\n",
    "\n",
    "people = int(input(\"How many people to split the bill? \\n\"))\n",
    "\n",
    "pay = float(bill + (tip / 100 * bill)) \n",
    "bill_toPay = round(pay / people , 2)\n",
    "print(\"Each person should pay: $ {:.2f}\".format(bill_toPay))"
   ]
  },
  {
   "cell_type": "markdown",
   "id": "26d4dd5f",
   "metadata": {},
   "source": [
    "###### If Else Statements"
   ]
  },
  {
   "cell_type": "code",
   "execution_count": 31,
   "id": "2dfee16f",
   "metadata": {},
   "outputs": [
    {
     "name": "stdout",
     "output_type": "stream",
     "text": [
      "Welcome to the rollercoaster!\n",
      "What is your height in cm? \n",
      "149\n",
      "What is your age? 11\n",
      "Please pay $5\n"
     ]
    }
   ],
   "source": [
    "# Roller coaster Ride\n",
    "# print(\"Welcome to the rollercoaster!\")\n",
    "# height = int(input(\"What is your height in cm? \\n\"))\n",
    "\n",
    "# if height >= 120:\n",
    "#     print(\"You can ride whohoo!\")\n",
    "# else:\n",
    "#     print(\"Go eat some auxins!\")\n",
    "\n",
    "# Rollercoaster with more conditions\n",
    "# >> Nested If statement\n",
    "print(\"Welcome to the rollercoaster!\")\n",
    "height = int(input(\"What is your height in cm? \\n\"))\n",
    "\n",
    "if height >= 120:\n",
    "    age = int(input(\"What is your age? \"))\n",
    "    if age > 18:\n",
    "        print(\"Please pay $12\")\n",
    "    elif age >= 12 and age <= 18:\n",
    "        print(\"Please pay $7\")\n",
    "    else:\n",
    "        print(\"Please pay $5\")\n",
    "else:\n",
    "    print(\"Go eat some auxins!\")\n"
   ]
  },
  {
   "cell_type": "code",
   "execution_count": 24,
   "id": "3102f7a2",
   "metadata": {},
   "outputs": [
    {
     "name": "stdout",
     "output_type": "stream",
     "text": [
      "Welcome to digit checker!\n",
      "Which number do you want to check?120\n",
      "Even Number!\n"
     ]
    }
   ],
   "source": [
    "# Odd or Even\n",
    "print(\"Welcome to digit checker!\")\n",
    "number = int(input(\"Which number do you want to check?\"))\n",
    "\n",
    "res = number % 2\n",
    "if res == 0:\n",
    "    print(\"Even Number!\")\n",
    "else:\n",
    "    print(\"This is odd!\")"
   ]
  },
  {
   "cell_type": "code",
   "execution_count": 2,
   "id": "2ddb4a58",
   "metadata": {},
   "outputs": [
    {
     "name": "stdout",
     "output_type": "stream",
     "text": [
      "enter your height in m: 1.80\n",
      "enter your weight in kg: 76\n",
      "Your BMI is 23, you have a normal weight.\n"
     ]
    }
   ],
   "source": [
    "# BMI 2.0\n",
    "# 🚨 Don't change the code below 👇\n",
    "height = float(input(\"enter your height in m: \"))\n",
    "weight = float(input(\"enter your weight in kg: \"))\n",
    "# 🚨 Don't change the code above 👆\n",
    "\n",
    "#Write your code below this line 👇\n",
    "res = weight / (height) ** 2\n",
    "\n",
    "BMI = round(res)\n",
    "if BMI < 18.5:\n",
    "    print(f\"Your BMI is {BMI}, you are underweight.\")\n",
    "elif BMI < 25:\n",
    "    print(f\"Your BMI is {BMI}, you have a normal weight.\")\n",
    "elif BMI < 30:\n",
    "    print(f\"Your BMI is {BMI}, you are slightly overweight.\")\n",
    "elif BMI < 35:\n",
    "    print(f\"Your BMI is {BMI}, you are obese.\")\n",
    "else:\n",
    "    print(f\"Your BMI is {BMI}, you are clinically obese.\")"
   ]
  },
  {
   "cell_type": "code",
   "execution_count": 10,
   "id": "1f366c58",
   "metadata": {},
   "outputs": [
    {
     "name": "stdout",
     "output_type": "stream",
     "text": [
      "Which year do you want to check? 2022\n",
      "Not leap year.\n"
     ]
    }
   ],
   "source": [
    "# Leap Year\n",
    "# 🚨 Don't change the code below 👇\n",
    "year = int(input(\"Which year do you want to check? \"))\n",
    "# 🚨 Don't change the code above 👆\n",
    "\n",
    "#Write your code below this line 👇\n",
    "if year % 4 == 0:\n",
    "    if year % 100 == 0:\n",
    "        if year % 400 == 0:\n",
    "            print(\"Leap year.\")\n",
    "        else:\n",
    "            print(\"Not leap year.\")\n",
    "    else:  \n",
    "        print(\"Leap year.\")\n",
    "else:\n",
    "    print(\"Not leap year.\")"
   ]
  },
  {
   "cell_type": "code",
   "execution_count": 19,
   "id": "55914864",
   "metadata": {},
   "outputs": [
    {
     "name": "stdout",
     "output_type": "stream",
     "text": [
      "Welcome to the rollercoaster!\n",
      "What is your height in cm? \n",
      "178\n",
      "What is your age? 12\n",
      "Youth tickets are $7\n",
      "Do you want a photo taken? Y or N. \n",
      "N\n",
      "Please pay $7\n"
     ]
    }
   ],
   "source": [
    "# Roller coaster 2.0\n",
    "print(\"Welcome to the rollercoaster!\")\n",
    "height = int(input(\"What is your height in cm? \\n\"))\n",
    "\n",
    "bill = 0\n",
    "if height >= 120:\n",
    "    age = int(input(\"What is your age? \"))\n",
    "    if age > 18:\n",
    "        bill = 12\n",
    "        print(\"Adult tickest are $12\")\n",
    "    elif age >= 12 and age <= 18:\n",
    "        bill = 7\n",
    "        print(\"Youth tickets are $7\")\n",
    "    else:\n",
    "        bill = 5\n",
    "        print(\"Child tickets are $5\")\n",
    "    \n",
    "    wants_photo = input(\"Do you want a photo taken? Y or N. \\n\")\n",
    "    if wants_photo == 'Y':\n",
    "       bill += 3\n",
    "       print(f\"Please pay ${bill}\")\n",
    "    else:\n",
    "        bill\n",
    "        print(f\"Please pay ${bill}\")\n",
    "else:\n",
    "    print(\"Go eat some auxins!\")"
   ]
  },
  {
   "cell_type": "markdown",
   "id": "9967cbea",
   "metadata": {},
   "source": [
    "###### Pizza Order"
   ]
  },
  {
   "cell_type": "code",
   "execution_count": 23,
   "id": "fd0481c5",
   "metadata": {},
   "outputs": [
    {
     "name": "stdout",
     "output_type": "stream",
     "text": [
      "Welcome to Python Pizza Deliveries!\n",
      "Whta size of pizza do you want? S, M, or L \n",
      "M\n",
      "Do you want pepperoni? Y or N \n",
      "Y\n",
      "Do you want extra cheese? Y or N \n",
      "Y\n",
      "please pay 24\n"
     ]
    }
   ],
   "source": [
    "print(\"Welcome to Python Pizza Deliveries!\")\n",
    "size = input(\"Whta size of pizza do you want? S, M, or L \\n\")\n",
    "add_pepperoni = input(\"Do you want pepperoni? Y or N \\n\")\n",
    "extra_cheese = input(\"Do you want extra cheese? Y or N \\n\")\n",
    "\n",
    "bill = 0\n",
    "\n",
    "if size == \"S\":\n",
    "    bill += 15\n",
    "elif size == \"M\":\n",
    "    bill += 20\n",
    "else:\n",
    "    bill += 25\n",
    "if add_pepperoni == \"Y\":\n",
    "    if size == \"S\":\n",
    "        bill += 2\n",
    "    else:\n",
    "        bill += 3\n",
    "if extra_cheese == \"Y\":\n",
    "    bill += 1\n",
    "else:\n",
    "    bill\n",
    "print(f\"please pay {bill}\")\n",
    "\n",
    "\n",
    "    "
   ]
  },
  {
   "cell_type": "markdown",
   "id": "30cb2f74",
   "metadata": {},
   "source": [
    "###### Logical Operators"
   ]
  },
  {
   "cell_type": "code",
   "execution_count": 28,
   "id": "b36fc8e0",
   "metadata": {},
   "outputs": [
    {
     "name": "stdout",
     "output_type": "stream",
     "text": [
      "Welcome to the rollercoaster!\n",
      "What is your height in cm? \n",
      "178\n",
      "What is your age? 46\n",
      "All is well!\n",
      "Do you want a photo taken? Y or N. \n",
      "Y\n",
      "Please pay $3\n"
     ]
    }
   ],
   "source": [
    "print(\"Welcome to the rollercoaster!\")\n",
    "height = int(input(\"What is your height in cm? \\n\"))\n",
    "\n",
    "bill = 0\n",
    "if height >= 120:\n",
    "    age = int(input(\"What is your age? \"))\n",
    "    if age >= 45 and age <= 55:\n",
    "        print(\"All is well!\")\n",
    "    elif age > 18:\n",
    "        bill = 12\n",
    "        print(\"Adult tickest are $12\")\n",
    "    elif age >= 12 and age <= 18:\n",
    "        bill = 7\n",
    "        print(\"Youth tickets are $7\")\n",
    "    else:\n",
    "        bill = 5\n",
    "        print(\"Child tickets are $5\")\n",
    "    \n",
    "    wants_photo = input(\"Do you want a photo taken? Y or N. \\n\")\n",
    "    if wants_photo == 'Y':\n",
    "       bill += 3\n",
    "       print(f\"Please pay ${bill}\")\n",
    "    else:\n",
    "        bill\n",
    "        print(f\"Please pay ${bill}\")\n",
    "else:\n",
    "    print(\"Go eat some auxins!\")"
   ]
  },
  {
   "cell_type": "markdown",
   "id": "a0a771df",
   "metadata": {},
   "source": [
    "###### Love Calculator"
   ]
  },
  {
   "cell_type": "code",
   "execution_count": 36,
   "id": "7a747c29",
   "metadata": {},
   "outputs": [
    {
     "name": "stdout",
     "output_type": "stream",
     "text": [
      "Welcome to the love calculator!\n",
      "What is your name? \n",
      "Brian Kipkemboi\n",
      "What is their name? \n",
      "Vera Mogusu\n",
      "Your score is 65\n"
     ]
    }
   ],
   "source": [
    "print(\"Welcome to the love calculator!\")\n",
    "name1 = input(\"What is your name? \\n\").lower()\n",
    "name2 = input(\"What is their name? \\n\").lower()\n",
    "\n",
    "combined_string = name1 + name2\n",
    "lower_case_String = combined_string.lower()\n",
    "t = lower_case_String.count('t')\n",
    "r = lower_case_String.count('r')\n",
    "u = lower_case_String.count('u')\n",
    "e = lower_case_String.count('e')\n",
    "\n",
    "true = t + r + u + e\n",
    "\n",
    "l = lower_case_String.count('l')\n",
    "o = lower_case_String.count('o')\n",
    "v = lower_case_String.count('v')\n",
    "e = lower_case_String.count('e')\n",
    "\n",
    "love = l + o + v + e\n",
    "love_score = int(str(true) + str(love))\n",
    "if love_score < 10 or love_score > 90:\n",
    "    print(f\"Your love score is {love_score}, you go together like coke and mentos.\")\n",
    "elif love_score >= 40 and love_score <= 50:\n",
    "    print(f\"Your score is {love_score}, you are alright together.\")\n",
    "else:\n",
    "    print(f\"Your score is {love_score}.\")\n",
    "\n"
   ]
  },
  {
   "cell_type": "markdown",
   "id": "136ae782",
   "metadata": {},
   "source": [
    "###### Treasure Island"
   ]
  },
  {
   "cell_type": "code",
   "execution_count": 45,
   "id": "991ed231",
   "metadata": {},
   "outputs": [
    {
     "name": "stdout",
     "output_type": "stream",
     "text": [
      "\n",
      "*******************************************************************************\n",
      "          |                   |                  |                     |\n",
      " _________|________________.=\"\"_;=.______________|_____________________|_______\n",
      "|                   |  ,-\"_,=\"\"     `\"=.|                  |\n",
      "|___________________|__\"=._o`\"-._        `\"=.______________|___________________\n",
      "          |                `\"=._o`\"=._      _`\"=._                     |\n",
      " _________|_____________________:=._o \"=._.\"_.-=\"'\"=.__________________|_______\n",
      "|                   |    __.--\" , ; `\"=._o.\" ,-\"\"\"-._ \".   |\n",
      "|___________________|_._\"  ,. .` ` `` ,  `\"-._\"-._   \". '__|___________________\n",
      "          |           |o`\"=._` , \"` `; .\". ,  \"-._\"-._; ;              |\n",
      " _________|___________| ;`-.o`\"=._; .\" ` '`.\"\\` . \"-._ /_______________|_______\n",
      "|                   | |o;    `\"-.o`\"=._``  '` \" ,__.--o;   |\n",
      "|___________________|_| ;     (#) `-.o `\"=.`_.--\"_o.-; ;___|___________________\n",
      "____/______/______/___|o;._    \"      `\".o|o_.--\"    ;o;____/______/______/____\n",
      "/______/______/______/_\"=._o--._        ; | ;        ; ;/______/______/______/_\n",
      "____/______/______/______/__\"=._o--._   ;o|o;     _._;o;____/______/______/____\n",
      "/______/______/______/______/____\"=._o._; | ;_.--\"o.--\"_/______/______/______/_\n",
      "____/______/______/______/______/_____\"=.o|o_.--\"\"___/______/______/______/____\n",
      "/______/______/______/______/______/______/______/______/______/______/_____ /\n",
      "*******************************************************************************\n",
      "\n",
      "Welcome to Treasure Island.\n",
      "Your mission is to find the treasure.\n",
      "You're at a cross road. Where do you want to go? Type 'left' or 'right' \n",
      "left\n",
      "You come to a lake. There is an island in the middle of the lake. Type 'wait' to wait for a boat. Type 'swim' to swim across.\n",
      "wait\n",
      "You arrive at the island unharmed. There is a house with 3 doors. one red, one yellow and one blue. Which color do you choose?\n",
      "yellow\n",
      "You found the treasure! You Win!\n"
     ]
    }
   ],
   "source": [
    "print('''\n",
    "*******************************************************************************\n",
    "          |                   |                  |                     |\n",
    " _________|________________.=\"\"_;=.______________|_____________________|_______\n",
    "|                   |  ,-\"_,=\"\"     `\"=.|                  |\n",
    "|___________________|__\"=._o`\"-._        `\"=.______________|___________________\n",
    "          |                `\"=._o`\"=._      _`\"=._                     |\n",
    " _________|_____________________:=._o \"=._.\"_.-=\"'\"=.__________________|_______\n",
    "|                   |    __.--\" , ; `\"=._o.\" ,-\"\"\"-._ \".   |\n",
    "|___________________|_._\"  ,. .` ` `` ,  `\"-._\"-._   \". '__|___________________\n",
    "          |           |o`\"=._` , \"` `; .\". ,  \"-._\"-._; ;              |\n",
    " _________|___________| ;`-.o`\"=._; .\" ` '`.\"\\` . \"-._ /_______________|_______\n",
    "|                   | |o;    `\"-.o`\"=._``  '` \" ,__.--o;   |\n",
    "|___________________|_| ;     (#) `-.o `\"=.`_.--\"_o.-; ;___|___________________\n",
    "____/______/______/___|o;._    \"      `\".o|o_.--\"    ;o;____/______/______/____\n",
    "/______/______/______/_\"=._o--._        ; | ;        ; ;/______/______/______/_\n",
    "____/______/______/______/__\"=._o--._   ;o|o;     _._;o;____/______/______/____\n",
    "/______/______/______/______/____\"=._o._; | ;_.--\"o.--\"_/______/______/______/_\n",
    "____/______/______/______/______/_____\"=.o|o_.--\"\"___/______/______/______/____\n",
    "/______/______/______/______/______/______/______/______/______/______/_____ /\n",
    "*******************************************************************************\n",
    "''')\n",
    "print(\"Welcome to Treasure Island.\")\n",
    "print(\"Your mission is to find the treasure.\") \n",
    "choice1 = input(\"You\\'re at a cross road. Where do you want to go? Type 'left' or 'right' \\n\").lower()\n",
    "\n",
    "if choice1 == \"left\":\n",
    "    choose2 = input(\"You come to a lake. There is an island in the middle of the lake. Type 'wait' to wait for a boat. Type 'swim' to swim across.\\n\").lower()\n",
    "    if choose2 == 'wait':\n",
    "        choice3 = input('You arrive at the island unharmed. There is a house with 3 doors. one red, one yellow and one blue. Which color do you choose?\\n').lower()\n",
    "        if choice3  == 'blue':\n",
    "            print(\"You enter a room of beasts. Game Over.\")\n",
    "        elif choice3  == 'red':\n",
    "            print(\"It's a room full of fire. Game Over.\")\n",
    "        elif choice3  == 'yellow':\n",
    "            print(\"You found the treasure! You Win!\")\n",
    "        else:\n",
    "            print('Please enter a valid color!')\n",
    "    else:\n",
    "        print('Game Over!')\n",
    "else:\n",
    "    print('Game Over!')\n"
   ]
  },
  {
   "cell_type": "markdown",
   "id": "14cde813",
   "metadata": {},
   "source": [
    "###### Randomisation and Python Lists"
   ]
  },
  {
   "cell_type": "code",
   "execution_count": 46,
   "id": "3f6c1976",
   "metadata": {},
   "outputs": [],
   "source": [
    "import random"
   ]
  },
  {
   "cell_type": "code",
   "execution_count": 50,
   "id": "7168fea6",
   "metadata": {},
   "outputs": [
    {
     "data": {
      "text/plain": [
       "9"
      ]
     },
     "execution_count": 50,
     "metadata": {},
     "output_type": "execute_result"
    }
   ],
   "source": [
    "random_integer = random.randint(1, 10)\n",
    "random_integer"
   ]
  },
  {
   "cell_type": "code",
   "execution_count": 56,
   "id": "ce1dc8a2",
   "metadata": {},
   "outputs": [
    {
     "name": "stdout",
     "output_type": "stream",
     "text": [
      "1.7106546819276114\n"
     ]
    }
   ],
   "source": [
    "random_float = random.random()\n",
    "rand_on = random_float * 5\n",
    "print(rand_on)"
   ]
  },
  {
   "cell_type": "markdown",
   "id": "ad95e3a3",
   "metadata": {},
   "source": [
    "###### Head or Tail"
   ]
  },
  {
   "cell_type": "code",
   "execution_count": 60,
   "id": "6e306485",
   "metadata": {},
   "outputs": [
    {
     "name": "stdout",
     "output_type": "stream",
     "text": [
      "Tails\n"
     ]
    }
   ],
   "source": [
    "choice = random.randint(1,2)\n",
    "if choice == 1:\n",
    "    print('Heads')\n",
    "else:\n",
    "    print(\"Tails\")"
   ]
  },
  {
   "cell_type": "markdown",
   "id": "669b4de1",
   "metadata": {},
   "source": [
    "###### Lists"
   ]
  },
  {
   "cell_type": "markdown",
   "id": "1b914fdc",
   "metadata": {},
   "source": [
    "### Banker Roullette"
   ]
  },
  {
   "cell_type": "code",
   "execution_count": 3,
   "id": "af663fd4",
   "metadata": {},
   "outputs": [
    {
     "name": "stdout",
     "output_type": "stream",
     "text": [
      "Give me everybody's names, separated by a comma. \n",
      " Brian, Jnae, Kim, Hum\n",
      "Jnae is going to buy the meal today!\n"
     ]
    }
   ],
   "source": [
    "# Import the random module here\n",
    "import random\n",
    "# Split string method\n",
    "names_string = input(\"Give me everybody's names, separated by a comma. \\n \")\n",
    "names = names_string.split(\", \")\n",
    "# 🚨 Don't change the code above 👆\n",
    "\n",
    "#Write your code below this line 👇\n",
    "\n",
    "#Get the total number of items in list.\n",
    "num_items = len(names)\n",
    "#Generate random numbers between 0 and the last index. \n",
    "random_choice = random.randint(0, num_items - 1)\n",
    "#Pick out random person from list of names using the random number.\n",
    "person_who_will_pay = names[random_choice]\n",
    "\n",
    "print(person_who_will_pay + \" is going to buy the meal today!\")"
   ]
  },
  {
   "cell_type": "markdown",
   "id": "f7266d6a",
   "metadata": {},
   "source": [
    "###### Nested lists"
   ]
  },
  {
   "cell_type": "code",
   "execution_count": 4,
   "id": "3a15bd71",
   "metadata": {},
   "outputs": [
    {
     "name": "stdout",
     "output_type": "stream",
     "text": [
      "['Strawberries', 'Nectarines', 'Apples', 'Grapes', 'Peaches', 'Cherries', 'Melons', 'Lemons']\n"
     ]
    }
   ],
   "source": [
    "fruits = [\"Strawberries\", \"Nectarines\", \"Apples\", \"Grapes\", \"Peaches\", \"Cherries\", \"Pears\"]\n",
    "fruits[-1] = \"Melons\"\n",
    "fruits.append(\"Lemons\")\n",
    "print(fruits)"
   ]
  },
  {
   "cell_type": "markdown",
   "id": "c67c8e62",
   "metadata": {},
   "source": [
    "###### Treasure Map"
   ]
  },
  {
   "cell_type": "code",
   "execution_count": 5,
   "id": "43cfb8df",
   "metadata": {},
   "outputs": [
    {
     "name": "stdout",
     "output_type": "stream",
     "text": [
      "['⬜️', '️⬜️', '️⬜️']\n",
      "['⬜️', '⬜️', '️⬜️']\n",
      "['⬜️️', '⬜️️', '⬜️️']\n",
      "Where do you want to put the treasure? 23\n",
      "['⬜️', '️⬜️', '️⬜️']\n",
      "['⬜️', '⬜️', '️⬜️']\n",
      "['⬜️️', 'X', '⬜️️']\n"
     ]
    }
   ],
   "source": [
    "# 🚨 Don't change the code below 👇\n",
    "row1 = [\"⬜️\",\"️⬜️\",\"️⬜️\"]\n",
    "row2 = [\"⬜️\",\"⬜️\",\"️⬜️\"]\n",
    "row3 = [\"⬜️️\",\"⬜️️\",\"⬜️️\"]\n",
    "map = [row1, row2, row3]\n",
    "print(f\"{row1}\\n{row2}\\n{row3}\")\n",
    "position = input(\"Where do you want to put the treasure? \")\n",
    "# 🚨 Don't change the code above 👆\n",
    "\n",
    "#Write your code below this row 👇\n",
    "horizontal = int(position[0])\n",
    "vertical = int(position[1])\n",
    "\n",
    "selected_row = map[vertical - 1]\n",
    "selected_row[horizontal -1] = 'X'\n",
    "\n",
    "#Write your code above this row 👆\n",
    "\n",
    "# 🚨 Don't change the code below 👇\n",
    "print(f\"{row1}\\n{row2}\\n{row3}\")\n",
    "\n"
   ]
  },
  {
   "cell_type": "markdown",
   "id": "629f2575",
   "metadata": {},
   "source": [
    "###### Rock Paper Scissors"
   ]
  },
  {
   "cell_type": "code",
   "execution_count": 7,
   "id": "89625472",
   "metadata": {},
   "outputs": [
    {
     "name": "stdout",
     "output_type": "stream",
     "text": [
      "What do you choose? Type 0 for Rock, 1 for Paper or 2 for Scissors.\n",
      "1\n",
      "\n",
      "    _______\n",
      "---'   ____)____\n",
      "          ______)\n",
      "          _______)\n",
      "         _______)\n",
      "---.__________)\n",
      "\n",
      "Computer chose:\n",
      "\n",
      "    _______\n",
      "---'   ____)____\n",
      "          ______)\n",
      "       __________)\n",
      "      (____)\n",
      "---.__(___)\n",
      "\n",
      "You lose\n"
     ]
    }
   ],
   "source": [
    "import random\n",
    "\n",
    "rock = '''\n",
    "    _______\n",
    "---'   ____)\n",
    "      (_____)\n",
    "      (_____)\n",
    "      (____)\n",
    "---.__(___)\n",
    "'''\n",
    "\n",
    "paper = '''\n",
    "    _______\n",
    "---'   ____)____\n",
    "          ______)\n",
    "          _______)\n",
    "         _______)\n",
    "---.__________)\n",
    "'''\n",
    "\n",
    "scissors = '''\n",
    "    _______\n",
    "---'   ____)____\n",
    "          ______)\n",
    "       __________)\n",
    "      (____)\n",
    "---.__(___)\n",
    "'''\n",
    "game_images = [rock, paper, scissors]\n",
    "\n",
    "user_choice = int(input(\"What do you choose? Type 0 for Rock, 1 for Paper or 2 for Scissors.\\n\"))\n",
    "if user_choice >= 3 or user_choice < 0: \n",
    "  print(\"You typed an invalid number, you lose!\") \n",
    "else:\n",
    "  print(game_images[user_choice])\n",
    "\n",
    "  computer_choice = random.randint(0, 2)\n",
    "  print(\"Computer chose:\")\n",
    "  print(game_images[computer_choice])\n",
    "\n",
    "  if user_choice == 0 and computer_choice == 2:\n",
    "    print(\"You win!\")\n",
    "  elif computer_choice == 0 and user_choice == 2:\n",
    "    print(\"You lose\")\n",
    "  elif computer_choice > user_choice:\n",
    "    print(\"You lose\")\n",
    "  elif user_choice > computer_choice:\n",
    "    print(\"You win!\")\n",
    "  elif computer_choice == user_choice:\n",
    "    print(\"It's a draw\")\n"
   ]
  },
  {
   "cell_type": "markdown",
   "id": "c2d51aad",
   "metadata": {},
   "source": [
    "###### For Loops"
   ]
  },
  {
   "cell_type": "code",
   "execution_count": 8,
   "id": "f34f319b",
   "metadata": {},
   "outputs": [
    {
     "name": "stdout",
     "output_type": "stream",
     "text": [
      "Apple\n",
      "Peach\n",
      "Pear\n"
     ]
    }
   ],
   "source": [
    "fruits = ['Apple', 'Peach', 'Pear']\n",
    "\n",
    "for fruit in fruits:\n",
    "    print(fruit)"
   ]
  },
  {
   "cell_type": "markdown",
   "id": "a5998ccd",
   "metadata": {},
   "source": [
    "###### Average Height"
   ]
  },
  {
   "cell_type": "code",
   "execution_count": null,
   "id": "aeda3df8",
   "metadata": {},
   "outputs": [],
   "source": []
  }
 ],
 "metadata": {
  "kernelspec": {
   "display_name": "Python 3 (ipykernel)",
   "language": "python",
   "name": "python3"
  },
  "language_info": {
   "codemirror_mode": {
    "name": "ipython",
    "version": 3
   },
   "file_extension": ".py",
   "mimetype": "text/x-python",
   "name": "python",
   "nbconvert_exporter": "python",
   "pygments_lexer": "ipython3",
   "version": "3.9.12"
  }
 },
 "nbformat": 4,
 "nbformat_minor": 5
}
