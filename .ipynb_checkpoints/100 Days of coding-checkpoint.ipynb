{
 "cells": [
  {
   "cell_type": "code",
   "execution_count": 1,
   "id": "18b2589d",
   "metadata": {},
   "outputs": [
    {
     "data": {
      "text/html": [
       "<style>.container { width:95% !important; }</style>"
      ],
      "text/plain": [
       "<IPython.core.display.HTML object>"
      ]
     },
     "metadata": {},
     "output_type": "display_data"
    }
   ],
   "source": [
    "from IPython.display import display, HTML\n",
    "display(HTML(\"<style>.container { width:95% !important; }</style>\"))"
   ]
  },
  {
   "cell_type": "code",
   "execution_count": 2,
   "id": "0b5c55ff",
   "metadata": {},
   "outputs": [
    {
     "name": "stdout",
     "output_type": "stream",
     "text": [
      "Day 1 - String Manipulation\n",
      "String Concatenation is done with the  sign.\n",
      "e.g. print(\"Hello \" + \"world\")\n",
      "New lines can be created with a backslash and n.\n"
     ]
    }
   ],
   "source": [
    "print(\"Day 1 - String Manipulation\")\n",
    "print(\"String Concatenation is done with the \"+\" sign.\")\n",
    "print('e.g. print(\"Hello \" + \"world\")')\n",
    "print((\"New lines can be created with a backslash and n.\"))"
   ]
  },
  {
   "cell_type": "markdown",
   "id": "c4a10495",
   "metadata": {},
   "source": [
    "#### Variables\n",
    "> Variables are used to store datat that can be used later in a program."
   ]
  },
  {
   "cell_type": "code",
   "execution_count": 3,
   "id": "d63730f0",
   "metadata": {},
   "outputs": [
    {
     "name": "stdout",
     "output_type": "stream",
     "text": [
      "Enter any number between 1 and 10098\n",
      "98 Battery street\n",
      "\n"
     ]
    }
   ],
   "source": [
    "number = int(input(\"Enter any number between 1 and 100 \\n\"))\n",
    "print(\"{:d} Battery street\\n\".format(number))"
   ]
  },
  {
   "cell_type": "code",
   "execution_count": 4,
   "id": "24f1c0bd",
   "metadata": {},
   "outputs": [
    {
     "name": "stdout",
     "output_type": "stream",
     "text": [
      "What is your name? brian\n",
      "brian\n",
      "your name is 5 letters long\n"
     ]
    }
   ],
   "source": [
    "name = input(\"What is your name? \")\n",
    "length = len(name)\n",
    "print(name)\n",
    "print(f\"your name is {length} letters long\")"
   ]
  },
  {
   "cell_type": "code",
   "execution_count": 5,
   "id": "a3feb2a4",
   "metadata": {},
   "outputs": [
    {
     "name": "stdout",
     "output_type": "stream",
     "text": [
      "There are 5 hours until midnight\n"
     ]
    }
   ],
   "source": [
    "num_hours = \"5\"\n",
    "print(\"There are \"+ num_hours +\" hours until midnight\")"
   ]
  },
  {
   "cell_type": "markdown",
   "id": "99f79608",
   "metadata": {},
   "source": [
    "##### mini project"
   ]
  },
  {
   "cell_type": "code",
   "execution_count": 6,
   "id": "14912320",
   "metadata": {},
   "outputs": [
    {
     "name": "stdout",
     "output_type": "stream",
     "text": [
      "Welcome ot the Band Name Generator\n",
      "Enter the name of the city you come from? \n",
      "nairobi\n",
      "you come from nairobi\n",
      "Enter the name of your pet? \n",
      "nri\n",
      "your pet is called nri\n",
      "Your Band name is nairobi nri\n"
     ]
    }
   ],
   "source": [
    "print(\"Welcome ot the Band Name Generator\")\n",
    "city = input(\"Enter the name of the city you come from? \\n\")\n",
    "print(f'you come from {city}')\n",
    "pet = input(\"Enter the name of your pet? \\n\")\n",
    "print(f'your pet is called {pet}')\n",
    "print(f'Your Band name is {city} {pet}')"
   ]
  },
  {
   "cell_type": "markdown",
   "id": "cf9d69e3",
   "metadata": {},
   "source": [
    "#### Data Types"
   ]
  },
  {
   "cell_type": "code",
   "execution_count": 7,
   "id": "7b3383b2",
   "metadata": {},
   "outputs": [
    {
     "name": "stdout",
     "output_type": "stream",
     "text": [
      "Type a two digit number: 76\n",
      "13\n"
     ]
    }
   ],
   "source": [
    "# Program to sum value of two digit number\n",
    "# 🚨 Don't change the code below 👇\n",
    "two_digit_number = input(\"Type a two digit number: \")\n",
    "# 🚨 Don't change the code above 👆\n",
    "\n",
    "####################################\n",
    "#Write your code below this line 👇\n",
    "a = int(two_digit_number[0])\n",
    "b = int(two_digit_number[1])\n",
    "\n",
    "print(a + b)\n",
    "\n"
   ]
  },
  {
   "cell_type": "markdown",
   "id": "48007456",
   "metadata": {},
   "source": [
    "###### BMI Calculator"
   ]
  },
  {
   "cell_type": "code",
   "execution_count": 8,
   "id": "8bb1f815",
   "metadata": {},
   "outputs": [
    {
     "name": "stdout",
     "output_type": "stream",
     "text": [
      "Enter your height in m: 1.89\n",
      "Enter your weight in kg: 75\n",
      "Your BMI is 20\n"
     ]
    }
   ],
   "source": [
    "height = input(\"Enter your height in m: \")\n",
    "weight = input(\"Enter your weight in kg: \")\n",
    "\n",
    "result = int(weight) / (float(height) ** 2)\n",
    "BMI = int(result)\n",
    "print(f'Your BMI is {BMI}')"
   ]
  },
  {
   "cell_type": "code",
   "execution_count": 9,
   "id": "0f0acaf3",
   "metadata": {},
   "outputs": [
    {
     "name": "stdout",
     "output_type": "stream",
     "text": [
      "your score is 0, you are 1.98 tall, you are winning is True\n"
     ]
    }
   ],
   "source": [
    "# f strings\n",
    "score = 0\n",
    "height = 1.98\n",
    "isWinning = True\n",
    "\n",
    "print(f\"your score is {score}, you are {height} tall, you are winning is {isWinning}\" )"
   ]
  },
  {
   "cell_type": "markdown",
   "id": "86d4f140",
   "metadata": {},
   "source": [
    "###### Calculate Life in weeks"
   ]
  },
  {
   "cell_type": "code",
   "execution_count": 10,
   "id": "0552187f",
   "metadata": {},
   "outputs": [
    {
     "name": "stdout",
     "output_type": "stream",
     "text": [
      "What is your current age? 45\n",
      "You have 16425 days, 2340 weeks and 540 months left\n"
     ]
    }
   ],
   "source": [
    "# 🚨 Don't change the code below 👇\n",
    "age = input(\"What is your current age? \")\n",
    "# 🚨 Don't change the code above 👆\n",
    "\n",
    "#Write your code below this line 👇\n",
    "age_as_int = int(age)\n",
    "\n",
    "years_remaining = 90 - age_as_int\n",
    "days_remaining = years_remaining * 365\n",
    "weeks_remaining = years_remaining * 52\n",
    "months_remaining = years_remaining * 12\n",
    "\n",
    "message = f\"You have {days_remaining} days, {weeks_remaining} weeks and {months_remaining} months left\"\n",
    "\n",
    "print(message)"
   ]
  },
  {
   "cell_type": "markdown",
   "id": "926af2ea",
   "metadata": {},
   "source": [
    "###### Tip Calculator"
   ]
  },
  {
   "cell_type": "code",
   "execution_count": 11,
   "id": "5c04b7c2",
   "metadata": {},
   "outputs": [
    {
     "name": "stdout",
     "output_type": "stream",
     "text": [
      "Welcome to the tip calculator.\n",
      "What was the total bill? \n",
      "$1786.9\n",
      "What percentage tip would you like to give? 10, 12, or 15? \n",
      "10\n",
      "How many people to split the bill? \n",
      "7\n",
      "Each person should pay: $ 280.80\n"
     ]
    }
   ],
   "source": [
    "#If the bill was $150.00, split between 5 people, with 12% tip. \n",
    "\n",
    "#Each person should pay (150.00 / 5) * 1.12 = 33.6\n",
    "#Format the result to 2 decimal places = 33.60\n",
    "\n",
    "#Tip: There are 2 ways to round a number. You might have to do some Googling to solve this.💪\n",
    "\n",
    "#Write your code below this line 👇\n",
    "\n",
    "print(\"Welcome to the tip calculator.\")\n",
    "bill = float(input(\"What was the total bill? \\n$\"))\n",
    "\n",
    "tip = int(input(\"What percentage tip would you like to give? 10, 12, or 15? \\n\"))\n",
    "\n",
    "people = int(input(\"How many people to split the bill? \\n\"))\n",
    "\n",
    "pay = float(bill + (tip / 100 * bill)) \n",
    "bill_toPay = round(pay / people , 2)\n",
    "print(\"Each person should pay: $ {:.2f}\".format(bill_toPay))"
   ]
  },
  {
   "cell_type": "markdown",
   "id": "26d4dd5f",
   "metadata": {},
   "source": [
    "###### If Else Statements"
   ]
  },
  {
   "cell_type": "code",
   "execution_count": 31,
   "id": "2dfee16f",
   "metadata": {},
   "outputs": [
    {
     "name": "stdout",
     "output_type": "stream",
     "text": [
      "Welcome to the rollercoaster!\n",
      "What is your height in cm? \n",
      "149\n",
      "What is your age? 11\n",
      "Please pay $5\n"
     ]
    }
   ],
   "source": [
    "# Roller coaster Ride\n",
    "# print(\"Welcome to the rollercoaster!\")\n",
    "# height = int(input(\"What is your height in cm? \\n\"))\n",
    "\n",
    "# if height >= 120:\n",
    "#     print(\"You can ride whohoo!\")\n",
    "# else:\n",
    "#     print(\"Go eat some auxins!\")\n",
    "\n",
    "# Rollercoaster with more conditions\n",
    "# >> Nested If statement\n",
    "print(\"Welcome to the rollercoaster!\")\n",
    "height = int(input(\"What is your height in cm? \\n\"))\n",
    "\n",
    "if height >= 120:\n",
    "    age = int(input(\"What is your age? \"))\n",
    "    if age > 18:\n",
    "        print(\"Please pay $12\")\n",
    "    elif age >= 12 and age <= 18:\n",
    "        print(\"Please pay $7\")\n",
    "    else:\n",
    "        print(\"Please pay $5\")\n",
    "else:\n",
    "    print(\"Go eat some auxins!\")\n"
   ]
  },
  {
   "cell_type": "code",
   "execution_count": 24,
   "id": "3102f7a2",
   "metadata": {},
   "outputs": [
    {
     "name": "stdout",
     "output_type": "stream",
     "text": [
      "Welcome to digit checker!\n",
      "Which number do you want to check?120\n",
      "Even Number!\n"
     ]
    }
   ],
   "source": [
    "# Odd or Even\n",
    "print(\"Welcome to digit checker!\")\n",
    "number = int(input(\"Which number do you want to check?\"))\n",
    "\n",
    "res = number % 2\n",
    "if res == 0:\n",
    "    print(\"Even Number!\")\n",
    "else:\n",
    "    print(\"This is odd!\")"
   ]
  },
  {
   "cell_type": "code",
   "execution_count": null,
   "id": "2ddb4a58",
   "metadata": {},
   "outputs": [],
   "source": [
    "# BMI 2.0"
   ]
  }
 ],
 "metadata": {
  "kernelspec": {
   "display_name": "Python 3 (ipykernel)",
   "language": "python",
   "name": "python3"
  },
  "language_info": {
   "codemirror_mode": {
    "name": "ipython",
    "version": 3
   },
   "file_extension": ".py",
   "mimetype": "text/x-python",
   "name": "python",
   "nbconvert_exporter": "python",
   "pygments_lexer": "ipython3",
   "version": "3.9.12"
  }
 },
 "nbformat": 4,
 "nbformat_minor": 5
}
